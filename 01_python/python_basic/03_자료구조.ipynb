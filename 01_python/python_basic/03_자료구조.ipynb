{
 "cells": [
  {
   "cell_type": "markdown",
   "id": "da193321",
   "metadata": {
    "slideshow": {
     "slide_type": "slide"
    }
   },
   "source": [
    "# 자료구조란\n",
    "\n",
    "-   **여러 개의 값들을 모아서 관리**하는 데이터 타입.\n",
    "    -   한 개의 변수는 한 개의 값 밖에는 가지지 못한다. 그러나 하나의 변수로 여러 개의 값 관리해야 할 경우가 있다.\n",
    "    -   하나의 값이 여러개의 값들로 구성된 경우\n",
    "        -   한명의 고객 정보의 경우 이름, 나이, 주소, 전화번호 등 여러개의 값이 모여서 하나의 값이 된다.\n",
    "        -   한 반의 학생들의 이름들은 여러개의 이름들로 구성된다.\n",
    "-   파이썬은 데이터를 모으는 방식에 따라 다음과 같이 4개의 타입을 제공한다.\n",
    "    -   **List:** 순서가 있으며 중복된 값들을 모으는 것을 허용하고 구성하는 값들(원소)을 변경할 수 있다.\n",
    "    -   **Tuple:** 순서가 있으며 중복된 값들을 모으는 것을 허용하는데 구성하는 값들을 변경할 수 없다.\n",
    "    -   **Dictionary:** key-value 형태로 값들을 저장해 관리한다.\n",
    "    -   **Set:** 중복을 허용하지 않고 값들의 순서가 없다.\n",
    "-   **원소, 성분, 요소, element**\n",
    "    -   자료구조의 값들을 구성하는 개별 값들을 말한다.\n",
    "    -   len(자료구조) 함수\n",
    "        -   자료구조 내의 원소의 개수를 반환한다.\n"
   ]
  },
  {
   "cell_type": "markdown",
   "id": "84431cfd",
   "metadata": {
    "slideshow": {
     "slide_type": "slide"
    }
   },
   "source": [
    "# List (리스트)\n",
    "\n",
    "-   값들을 순서대로 모아서 관리하는 자료구조. 원소(element)들을 순번을 이용해 식별한다.\n",
    "    -   각각의 원소가 어떤 값인지를 index(순번)을 가지고 식별하기 때문에 **순서가 있고 그 순서가 매우 중요하다.** 즉 같은 값에 대해 순서가 바뀌면 안된다.\n",
    "-   각각의 원소들은 index를 이용해 식별한다.\n",
    "    -   index는 문자열과 마찮가지로 양수 index와 음수 index 두개가 각 값에 생긴다.\n",
    "    -   양수 index는 앞에서부터 음수 index는 뒤에서 부터 값을 식별할 때 사용하는 것이 편리하다.\n",
    "    -   **index를 가지고 각 원소값의 의미를 식별할 수 있으면 List나 Tuple을 사용한다.**\n",
    "-   중복된 값들을 저장할 수 있다.\n",
    "-   각 원소들의 데이터 타입은 달라도 상관없다.\n",
    "    -   보통은 같은 타입의 데이터를 모은다.\n",
    "-   리스트를 구성하는 **원소들을 변경할 수 있다.** (추가, 삭제, 변경이 가능)\n",
    "    -   원소 변경 여부가 List와 Tuple의 차이이다.\n",
    "\n",
    "## List 생성 구문\n",
    "\n",
    "```python\n",
    "[값, 값, 값, ..]\n",
    "\n"
   ]
  },
  {
   "cell_type": "code",
   "execution_count": null,
   "id": "6eef6bd9",
   "metadata": {},
   "outputs": [],
   "source": [
    "l = [1, 10, 100, 1000]\n",
    "# 0, 1, 2, 3 순으로 index가 자동으로 붙음\n",
    "l2 = [\"홍길동\", 20, \"서울\", 182.2, True, False] #여러 type의 원소가 들어갈 수 있음\n",
    "l3 = [1,2,3,4, [\"독서\", \"음악 감상\"]] #이 경우 l3의 원소안에 독서와 음악감상이 묶여 하나의 원소로 보임. 그래서 len으로 보면 5개로 나타남\n",
    "# []안에 []넣을 수 있음(list, tuple, set, dictionary 모두 가능)\n",
    "len(l), len(l2), len(l3)"
   ]
  },
  {
   "cell_type": "markdown",
   "id": "08d634bf",
   "metadata": {
    "slideshow": {
     "slide_type": "subslide"
    }
   },
   "source": [
    "## Indexing과 Slicing을 이용한 원소(element) 조회 및 변경\n",
    "\n",
    "### Indexing\n",
    "\n",
    "-   하나의 원소를 조회하거나 변경할 때 사용\n",
    "-   리스트\\[index\\]\n",
    "    -   index의 원소를 조회\n",
    "-   리스트\\[index\\] = 값\n",
    "    -   index의 원소를 변경\n"
   ]
  },
  {
   "cell_type": "code",
   "execution_count": null,
   "id": "a49c4d05",
   "metadata": {},
   "outputs": [],
   "source": [
    "l[2]\n",
    "l2[0]\n",
    "l3[3]\n",
    "\n",
    "l[0]=500 #1이 500으로 변경됨\n",
    "l[0]\n",
    "\n"
   ]
  },
  {
   "cell_type": "markdown",
   "id": "ab5a40cb",
   "metadata": {
    "slideshow": {
     "slide_type": "fragment"
    }
   },
   "source": [
    "### Slicing\n",
    "\n",
    "-   범위로 조회하거나 그 범위의 값들을 변경한다.\n",
    "-   기본구문: **리스트\\[ 시작 index : 종료 index : 간격\\]**\n",
    "    -   시작 index ~ (종료 index – 1)\n",
    "    -   간격을 지정하면 간격만큼 index를 증/감한다. (생략 시 1이 기본 간격)\n",
    "-   **0번 index 부터 조회 할 경우 시작 index는 생략가능**\n",
    "    -   리스트 \\[ : 5\\] => 0 ~ 4 까지 조회\n",
    "-   **마지막 index까지 (끝까지) 조회 할 경우 종료 index는 생략 가능**\n",
    "    -   리스트\\[2 : \\] => 2번 index 에서 끝까지\n",
    "-   **명시적으로 간격을 줄 경우**\n",
    "    -   리스트\\[ : : 3 \\] => 0, 3, 6, 9.. index의 값 조회\n",
    "    -   리스트\\[1 : 9 : 2\\] => 1, 3, 5, 7 index의 값 조회\n",
    "-   **시작 index > 종료 index, 간격을 음수로 하면 역으로 반환한다.(Reverse)**\n",
    "    -   리스트\\[5: 1: -1\\] => 5, 4, 3, 2 index의 값 조회\n",
    "    -   리스트\\[: : -1\\] => 마지막 index ~ 0번 index 까지 의미. Reverse 한다.\n",
    "\n",
    "#### slicing을 이용한 값 변경\n",
    "\n",
    "-   slicing 을 이용할 경우 slicing된 원소 개수와 동일한 개수의 값들을 대입한다.\n",
    "    -   `리스트[1:5] = 10,20,30,40` : index 1, 2, 3, 4의 값을 각각 10, 20, 30, 40 으로 변경\n"
   ]
  },
  {
   "cell_type": "code",
   "execution_count": null,
   "id": "a758ab6d",
   "metadata": {},
   "outputs": [],
   "source": [
    "l4 = [10, 20, 30, 40, 50, 60, 70, 80, 90, 100]\n",
    "l4[3:7]\n",
    "l4[:7]\n",
    "l4[7:]\n",
    "l4[-9:-1]\n",
    "l4[::-1]\n",
    "l4[-1::-3]\n",
    "l4[:3] = 100,200, 3000\n",
    "l4\n",
    "l4[3:] = 10, 20, 30 # [100, 200, 3000, 10, 20, 30]\n",
    "l4"
   ]
  },
  {
   "cell_type": "markdown",
   "id": "a4f9fe12",
   "metadata": {
    "slideshow": {
     "slide_type": "slide"
    }
   },
   "source": [
    "## List 연산자\n",
    "\n",
    "-   **리스트 + 리스트**\n",
    "    -   두 리스트의 원소들을 합친 리스트를 반환한다.\n",
    "-   **리스트 \\* 정수**\n",
    "    -   같은 리스트의 원소들을 정수번 합친 리스트를 반환한다.\n",
    "-   **in, not in 연산자**\n",
    "    -   값 in 리스트\n",
    "        -   리스트의 원소로 값이 **있으면** True, 없으면 False 반환\n",
    "    -   값 not in 리스트\n",
    "        -   리스트의 원소로 값이 **없으면** True, 있으면 False 반환\n",
    "-   **len(리스트)**\n",
    "    -   리스트 내의 원소수를 반환.\n"
   ]
  },
  {
   "cell_type": "code",
   "execution_count": null,
   "id": "db069ee7",
   "metadata": {},
   "outputs": [],
   "source": [
    "l2+l3\n",
    "l2*2\n",
    "\"홍길동\" in l2\n",
    "\"이순신\" not in l2\n",
    "30 in l2"
   ]
  },
  {
   "cell_type": "markdown",
   "id": "f90af754",
   "metadata": {
    "slideshow": {
     "slide_type": "slide"
    }
   },
   "source": [
    "## 중첩 리스트 (Nested List)\n",
    "\n",
    "-   List가 원소로 List를 가지는 것을 말한다.\n",
    "    -   List를 포함한 모든 자료구조 타입들도 다 값이므로 다른 자료구조의 원소로 들어갈 수 있다.\n"
   ]
  },
  {
   "cell_type": "code",
   "execution_count": null,
   "id": "4f52b717",
   "metadata": {},
   "outputs": [],
   "source": [
    "#list 안에 tuple, dictionary가 들어갈 수 있으며, 반대도 가능함\n",
    "l6 = [[1, 2, 3], [4, 5, 6]]\n",
    "l6[0], l6[1]\n",
    "l6[0][0] #0번 index의 0번째 값을 조회하는 것으로 결과는 1\n",
    "l6[0][0:1]=0,1\n",
    "l6\n",
    "l6[1][2:3]=7,8\n",
    "l6\n"
   ]
  },
  {
   "cell_type": "markdown",
   "id": "826b8780",
   "metadata": {
    "slideshow": {
     "slide_type": "slide"
    }
   },
   "source": [
    "## List 주요 메소드\n",
    "\n",
    "| 메소드                       | 설명                                                                                 |\n",
    "| :--------------------------- | ------------------------------------------------------------------------------------ |\n",
    "| **append(value)**                | value를 추가한다.                                                                    |\n",
    "| extend(List)                 | List의 원소들을 추가한다.                                                            |\n",
    "| sort(\\[reverse=False\\])      | 원소들을 오름차순 정렬한다. reverse=True로 하면 내림차순정렬 한다.                   |\n",
    "| insert(index, 삽입할값)      | 지정한 index에 '삽입할값'을 삽입한다.                                                |\n",
    "| remove(삭제할값)             | '삭제할값' 값과 같은 원소를 삭제한다.                                                |\n",
    "| index(찾을값\\, 시작index\\) | '찾을값'의 index를 반환한다.                                                         |\n",
    "| pop(\\[index\\])               | index의 값을 반환하면서 삭제한다. index 생략하면 가장 마지막 값을 반환하며 삭제한다. |\n",
    "| count(값)                    | '값'이 리스트의 원소로 몇개 있는지 반환한다.                                         |\n",
    "| clear()                      | 리스트 안의 모든 원소들을 삭제한다.                                                  |\n"
   ]
  },
  {
   "cell_type": "code",
   "execution_count": null,
   "id": "041be1da",
   "metadata": {},
   "outputs": [],
   "source": [
    "l8 = [1, 2, 3]\n",
    "l8.append(2000) #list l8에 2000을 추가\n",
    "l8.extend([1, 2, 3, 4, 5]) #list l에 하나로 묶인 index를 추가\n",
    "l8"
   ]
  },
  {
   "cell_type": "code",
   "execution_count": null,
   "id": "4b14d8e8",
   "metadata": {
    "slideshow": {
     "slide_type": "fragment"
    }
   },
   "outputs": [],
   "source": [
    "l8.remove(4) #값을 삭제\n",
    "l8"
   ]
  },
  {
   "cell_type": "code",
   "execution_count": null,
   "id": "aed0a84a",
   "metadata": {},
   "outputs": [],
   "source": [
    "l8=[1,2,3]\n",
    "l8\n",
    "l8.pop() #마지막 값이 사라지면서 반환\n",
    "l8"
   ]
  },
  {
   "cell_type": "code",
   "execution_count": null,
   "id": "ac7408ee",
   "metadata": {},
   "outputs": [],
   "source": [
    "l8.insert(0,\"가\")\n",
    "l8\n",
    "l8.clear()\n",
    "l8=[1,2,3,4,5]\n",
    "l8\n",
    "l8.sort() # 오름차순\n",
    "l8\n",
    "l8.sort(reverse=True) # 내림차순\n",
    "l8\n",
    "l8.index(3)"
   ]
  },
  {
   "cell_type": "markdown",
   "id": "5b28f033",
   "metadata": {
    "slideshow": {
     "slide_type": "slide"
    }
   },
   "source": [
    "# Tuple (튜플)\n",
    "\n",
    "-   List와 같이 순서대로 원소들을 관리한다. 단 저장된 원소를 변경할 수 없다.\n",
    "-   Tuple 은 각 위치(Index) 마다 정해진 의미가 있고 그 값이 한번 설정되면 바뀌지 않는 경우에 사용한다.\n",
    "    -   Tuple은 값의 변경되지 않으므로 안전하다.\n",
    "\n",
    "## Tuple 생성\n",
    "\n",
    "-   `(value, value, value, ...)`\n",
    "-   소괄호를 생략할 수 있다.\n",
    "-   원소가 하나인 Tuple 표현식\n",
    "    -   `(value,)` 또는 `value,`\n",
    "        -   값 뒤에 `,` 를 붙여준다. `,`를 붙이지 않으면 ( )가 연산자 우선순위 괄호가 된다.\n"
   ]
  },
  {
   "cell_type": "code",
   "execution_count": null,
   "id": "f7f96391",
   "metadata": {},
   "outputs": [],
   "source": [
    "t1 = (1, 2, 3, 4, 5)\n",
    "type(t1)\n",
    "t2 = (\"가\", 100, 20.2, True)\n",
    "t2\n",
    "t3 = 100,200,300,400, \"나\" # 튜플은()생략가능\n",
    "# a,b,c = 10,20,30 > 이것도 튜플임. = 튜플대입 \n",
    "# a,b,c = [1,2,3] > 이건 리스트 = 리스트대입"
   ]
  },
  {
   "cell_type": "code",
   "execution_count": null,
   "id": "17099a9e",
   "metadata": {
    "slideshow": {
     "slide_type": "fragment"
    }
   },
   "outputs": [],
   "source": [
    "t4 = (100,) #, < 이걸 안넣으면 정수(100), 넣으면 튜플로 인식됨\n",
    "t5 = 100, # 이렇게도 가능\n",
    "type(t5)\n",
    "a = \"1000\",\n",
    "type(a)\n",
    "b = [1,2,3], #tuple 안에 list가있는것으로 인식됨\n",
    "type(b) ,len(b) # 이렇게하면 결과값이 (tuple, 1) 이렇게나오는데 이것도 튜플이다~ 안나오게하고싶으면 print사용"
   ]
  },
  {
   "cell_type": "markdown",
   "id": "16954356",
   "metadata": {
    "slideshow": {
     "slide_type": "slide"
    }
   },
   "source": [
    "## Indexing과 Slicing을 이용한 원소(element) 조회\n",
    "\n",
    "-   리스트와 동일하다.\n",
    "-   단 튜플은 조회만 가능하고 원소를 변경할 수 없다.\n"
   ]
  },
  {
   "cell_type": "code",
   "execution_count": null,
   "id": "fa92bc45",
   "metadata": {},
   "outputs": [],
   "source": [
    "t2[2], t2[:2], t2[-3:-1]\n",
    "# list와는 다르게 t1[0]=100 했을 경우, 0번째에 있는 값이 100으로 변환되지 않고 에러가 발생함.\n",
    "b[0].append(2) #tuple은 추가, 삭제, 변경이 불가능하지만 tuple내 list는 가능함\n",
    "b"
   ]
  },
  {
   "cell_type": "markdown",
   "id": "135101f3",
   "metadata": {
    "slideshow": {
     "slide_type": "slide"
    }
   },
   "source": [
    "## Tuple 연산자\n",
    "\n",
    "-   **tuple + tuple**\n",
    "    -   두 tuple의 원소들을 합친 tuple을 반환한다.\n",
    "-   **tuple \\* 정수**\n",
    "    -   같은 tuple의 원소들을 정수번 합친 tuple를 반환한다.\n",
    "-   **in, not in 연산자**\n",
    "    -   값 in tuple\n",
    "        -   tuple의 원소로 값이 **있으면** True, 없으면 False 반환\n",
    "    -   값 not in tuple\n",
    "        -   tuple의 원소로 값이 **없으면** True, 있으면 False 반환\n",
    "-   **len(tuple)**\n",
    "    -   tuple의 원소 개수 반환\n"
   ]
  },
  {
   "cell_type": "markdown",
   "id": "89803fdd",
   "metadata": {
    "slideshow": {
     "slide_type": "subslide"
    }
   },
   "source": [
    "## Tuple의 주요 메소드\n",
    "\n",
    "| 메소드                        | 설명                                |\n",
    "| :---------------------------- | ----------------------------------- |\n",
    "| index(찾을값 \\, 시작index\\) | '찾을값'이 몇번 index인지 반환한다. |\n",
    "| count(값)                     | 원소로 '값'이 몇개 있는지 반환한다. |\n"
   ]
  },
  {
   "cell_type": "code",
   "execution_count": null,
   "id": "e8e4d78e",
   "metadata": {},
   "outputs": [],
   "source": [
    "t6 = (1,2,3,1,2,3,1,1,1,3)\n",
    "t6.index(3) # 값 3의 위치\n",
    "t6.index(3,4) # 4번 위치에서 시작하여 3번이 어디에 위치했는지를 알려줌\n",
    "t6.count(1)\n",
    "t6.count(4) # 없으면 0으로 표기됨"
   ]
  },
  {
   "cell_type": "markdown",
   "id": "e6c196f5",
   "metadata": {
    "slideshow": {
     "slide_type": "slide"
    }
   },
   "source": [
    "# Dictionary\n",
    "\n",
    "-   값을 키(key)-값(value) 쌍으로 묶어서 저장하는 자료구조이다.\n",
    "    -   리스트나 튜플의 index의 역할을 하는 key를 직접 지정한다.\n",
    "    -   서로 의미가 다른 값들을 하나로 묶을 때 그 값의 의미를 key로 가질 수 있는 dictionary를 사용한다.\n",
    "        -   cf) 값의 의미가 같을 경우 List나 Tuple을 사용한다.\n",
    "    -   key-value 쌍으로 묶은 데이터 한개를 **item 또는 entry**라고 한다.\n",
    "    -   key는 중복을 허용하지 않고 value는 중복을 허용한다.\n",
    "\n",
    "## Dictionary 생성\n",
    "\n",
    "-   구문\n",
    "    1. `{ 키 : 값, 키 : 값, 키 : 값 }`\n",
    "    2. dict(key=value, key=value) 함수 이용\n",
    "    -   키(key)는 불변(Immutable)의 값들만 사용 가능하다. (숫자, 문자열, 튜플) 일반적으로 문자열을 사용한다.\n",
    "    -   dict() 함수를 사용할 경우 key는 변수로 정의한다\n"
   ]
  },
  {
   "cell_type": "code",
   "execution_count": null,
   "id": "18611386",
   "metadata": {},
   "outputs": [],
   "source": [
    "d1 = {\"이름\":\"홍길동\",\"나이\" : 20, \"주소\" : \"서울\"} # key는 value를 표현해주는 것이므로 대부분 문자열을 사용함. 0,1,2 등으로 list화 해서 사용도 가능함.\n",
    "d1"
   ]
  },
  {
   "cell_type": "code",
   "execution_count": null,
   "id": "d9d37f28",
   "metadata": {
    "slideshow": {
     "slide_type": "fragment"
    }
   },
   "outputs": [],
   "source": [
    "d2 = dict(이름=\"이순신\",키=190,나이=20) #dict함수는 key가 숫자로는 안됨\n",
    "d2\n",
    "d3 = {\n",
    "    \"이름\":\"홍길동\",\n",
    "    \"나이\" : 20, \n",
    "    \"주소\" : \"서울\",\n",
    "    \"취미\":[\"게임\", \"독서\"]} #list나 tuple등 ()이거나 {}이거 []이걸로 열어주고 닫아주는게 있으므로 줄바꿈이 가능함(결과는 한줄로 나옴)\n",
    "d3[\"이름\"], d3[\"나이\"]"
   ]
  },
  {
   "cell_type": "code",
   "execution_count": null,
   "id": "3637fe66",
   "metadata": {},
   "outputs": [],
   "source": [
    "d3[\"나이\"] = 50 #나이변경\n",
    "d3\n",
    "\n",
    "d3['키'] = 182.3 #추가\n",
    "d3\n",
    "\n",
    "d3['mbti'] = \"ISTP\"\n",
    "d3\n",
    "\n",
    "d3[\"가족\"]=\"어머니\"\n",
    "d3"
   ]
  },
  {
   "cell_type": "markdown",
   "id": "f8c87bd3",
   "metadata": {
    "slideshow": {
     "slide_type": "subslide"
    }
   },
   "source": [
    "## Dictionary 원소 조회 및 변경\n",
    "\n",
    "-   조회: index에 key값을 식별자로 지정한다.\n",
    "    -   dictionary\\[ key \\]\n",
    "    -   없는 키로 조회 시 KeyError 발생\n",
    "-   변경\n",
    "    -   dictionary\\[ key \\] = 값\n",
    "    -   있는 key값에 값을 대입하면 변경이고 없는 key 일 경우는 새로운 item을 추가하는 것이다.\n"
   ]
  },
  {
   "cell_type": "markdown",
   "id": "d5aade1e",
   "metadata": {
    "slideshow": {
     "slide_type": "slide"
    }
   },
   "source": [
    "## Dictionary 연산자\n",
    "\n",
    "-   **in, not in 연산자**\n",
    "    -   값 in dictionary\n",
    "        -   dictionary의 **Key**로 값이 **있으면** True, 없으면 False 반환\n",
    "    -   값 not in dictionary\n",
    "        -   dictionary의 **Key**로 값이 **없으면** True, 있으면 False 반환\n",
    "-   **len(dictionary)**\n",
    "    -   dictionary의 **Item의 개수** 반환\n"
   ]
  },
  {
   "cell_type": "code",
   "execution_count": null,
   "id": "71449891",
   "metadata": {},
   "outputs": [],
   "source": [
    "\"이름\" in d3 #값을 물어보면 안나옴(False), key를 넣어야 함"
   ]
  },
  {
   "cell_type": "code",
   "execution_count": null,
   "id": "4a7c9061",
   "metadata": {
    "slideshow": {
     "slide_type": "fragment"
    }
   },
   "outputs": [],
   "source": [
    "len(d3)"
   ]
  },
  {
   "cell_type": "markdown",
   "id": "9f620ec1",
   "metadata": {
    "slideshow": {
     "slide_type": "slide"
    }
   },
   "source": [
    "## Dictionary 주요 메소드\n",
    "\n",
    "| 메소드               | 설명                                                                               |\n",
    "| :------------------- | ---------------------------------------------------------------------------------- |\n",
    "| get(key\\[, 기본값\\]) | key의 item의 값을 반환한다. 단 key가 없을 경우 None또는 기본값을 반환한다.         |\n",
    "| pop(key)             | key의 item의 값을 반환하면서 dictionary에서 삭제한다. 없는 key일 경우 KeyError발생 |\n",
    "| clear()              | dictionary의 모든 item들을 삭제한다.                                               |\n",
    "| del dict\\[key\\]      | key의 item을 제거한다.                                                             |\n",
    "| items()              | item의 key, value를 튜플로 묶어 모아 반환한다.                                     |\n",
    "| keys()               | key값들만 모아 반환한다.                                                           |\n",
    "| values()             | value값들만 모아 반환한다.                                                         |\n"
   ]
  },
  {
   "cell_type": "code",
   "execution_count": null,
   "id": "55f208b6",
   "metadata": {},
   "outputs": [],
   "source": [
    "d3\n",
    "# d3[\"몸무게\"] < 없는 key로 조회하면 에러발생\n",
    "d3.get(\"몸무게\") # 없으면 None(기본값)으로 반환\n",
    "d3.get(\"나이\") # value를 반환\n",
    "d3.get(\"몸무게\",\"없는 key\") #기본값이 \"없는 key\"로 바뀜\n",
    "d3.get(\"성별\") # 위에서 설정해줬어도 None으로 나옴\n",
    "w = d3.get(\"성별\",-1)\n",
    "w==-1\n"
   ]
  },
  {
   "cell_type": "code",
   "execution_count": null,
   "id": "350e7ad5",
   "metadata": {
    "slideshow": {
     "slide_type": "fragment"
    }
   },
   "outputs": [],
   "source": [
    "d3.pop(\"mbti\")\n",
    "d3"
   ]
  },
  {
   "cell_type": "code",
   "execution_count": null,
   "id": "f3d67c1c",
   "metadata": {},
   "outputs": [],
   "source": [
    "# key만 조회\n",
    "d3.keys()\n",
    "\n",
    "#value만 조회\n",
    "d3.values()\n",
    "\n",
    "#key-value를 튜플로 변환 ex)(이름,홍길동), (나이,50)\n",
    "d3.items()"
   ]
  },
  {
   "cell_type": "markdown",
   "id": "d97869af",
   "metadata": {
    "slideshow": {
     "slide_type": "slide"
    }
   },
   "source": [
    "# Set\n",
    "\n",
    "-   Set은 중복되는 값을 허용하지 않고 순서를 신경 쓰지 않는다.\n",
    "    -   원소를 식별할 수 있는 식별자가 없기 때문에 Set은 indexing과 slicing을 지원하지 않는다\n",
    "\n",
    "## Set 생성\n",
    "\n",
    "-   구문\n",
    "    -   {값, 값, 값 }\n",
    "\n",
    "> -   빈 Dictionary 만들기\n",
    ">     -   info = {}\n",
    ">     -   중괄호만 사용하면 빈 set이 아니라 빈 dictionary를 생성하는 것임.\n"
   ]
  },
  {
   "cell_type": "code",
   "execution_count": null,
   "id": "304f16ea",
   "metadata": {},
   "outputs": [
    {
     "data": {
      "text/plain": [
       "{1, 2, 3, 4, 5}"
      ]
     },
     "execution_count": 35,
     "metadata": {},
     "output_type": "execute_result"
    }
   ],
   "source": [
    "# info = {}가 dictionary인 이유는 set보다 dic이 자주 쓰이는 자료구조라서 기본값으로 지정되어있음. \n",
    "s1 = {1,2,3,4,5}\n",
    "#d1[1] 등으로 개별값을 조회할 수 있는 것을 subscriptable type이라 함.(indexing이 가능한 값들)\n",
    "#set은 indexing이 불가능\n",
    "\n",
    "s2 = {5,2,1,2,3,4,5,1,2,3,3,2,3,4,2,3,5,2}\n",
    "s2"
   ]
  },
  {
   "cell_type": "code",
   "execution_count": 36,
   "id": "5c88480a",
   "metadata": {
    "slideshow": {
     "slide_type": "fragment"
    }
   },
   "outputs": [
    {
     "name": "stdout",
     "output_type": "stream",
     "text": [
      "1\n",
      "2\n",
      "3\n",
      "4\n",
      "5\n"
     ]
    }
   ],
   "source": [
    "for v in s2 : \n",
    "    print(v)"
   ]
  },
  {
   "cell_type": "code",
   "execution_count": 38,
   "id": "b01f49e7",
   "metadata": {},
   "outputs": [
    {
     "data": {
      "text/plain": [
       "[1, 2, 3, 4, 5]"
      ]
     },
     "execution_count": 38,
     "metadata": {},
     "output_type": "execute_result"
    }
   ],
   "source": [
    "l = list(s2) #다른 자료구조를 list로 변환\n",
    "l"
   ]
  },
  {
   "cell_type": "markdown",
   "id": "79cf0f20",
   "metadata": {
    "slideshow": {
     "slide_type": "slide"
    }
   },
   "source": [
    "## Set 연산자\n",
    "\n",
    "-   **in, not in 연산자**\n",
    "    -   값 in Set\n",
    "        -   Set의 원소로 값이 **있으면** True, 없으면 False 반환\n",
    "    -   값 not in Set\n",
    "        -   Set의 원소로 값이 **없으면** True, 있으면 False 반환\n",
    "-   **len(Set)**\n",
    "    -   Set의 **원소의 개수** 반환\n",
    "-   **[집합연산자](#Set의-집합연산-연산자-및-메소드)**\n"
   ]
  },
  {
   "cell_type": "code",
   "execution_count": 41,
   "id": "1c530013",
   "metadata": {},
   "outputs": [
    {
     "data": {
      "text/plain": [
       "False"
      ]
     },
     "execution_count": 41,
     "metadata": {},
     "output_type": "execute_result"
    }
   ],
   "source": [
    "3 in s2\n",
    "3 not in s2"
   ]
  },
  {
   "cell_type": "code",
   "execution_count": null,
   "id": "80be18ad",
   "metadata": {
    "slideshow": {
     "slide_type": "fragment"
    }
   },
   "outputs": [
    {
     "data": {
      "text/plain": [
       "{1}"
      ]
     },
     "execution_count": 50,
     "metadata": {},
     "output_type": "execute_result"
    }
   ],
   "source": [
    "s3 = set() #set은 {}를 사용하는게 맞지만, 기본값은 dic 이기때문에 set으로 빈칸을 만들고싶다면 이렇게 해야함\n",
    "s3.add(1) # 그리고 추가하려면 이렇게.\n",
    "s3"
   ]
  },
  {
   "cell_type": "markdown",
   "id": "080c2a17",
   "metadata": {
    "slideshow": {
     "slide_type": "slide"
    }
   },
   "source": [
    "## Set의 주요 메소드\n",
    "\n",
    "| 메소드           | 설명                                   |\n",
    "| ---------------- | -------------------------------------- |\n",
    "| add(값)          | 집합에 값 추가                         |\n",
    "| update(자료구조) | 자료구조내의 원소들을 모두 집합에 추가 |\n",
    "| pop()            | 원소를 반환하고 Set에서 삭제한다.      |\n",
    "| remove(값)       | 값을 찾아서 Set에서 삭제한다.          |\n"
   ]
  },
  {
   "cell_type": "code",
   "execution_count": null,
   "id": "6ec0eee0",
   "metadata": {},
   "outputs": [
    {
     "data": {
      "text/plain": [
       "{(100, 200), 1, '10', 2, 3, 5, 6, 8, 9}"
      ]
     },
     "execution_count": 65,
     "metadata": {},
     "output_type": "execute_result"
    }
   ],
   "source": [
    "s2.add(6)\n",
    "s2 #집합에 있는 숫자를 add해도 오류가 나는게아님 걍 결과에 반영이안됨\n",
    "s2.update([1,2,3,4,2,5,9,6,7,8,9])\n",
    "s2\n",
    "s2.pop() #1번째꺼를 빼주면서 리턴해줌(1,2,3 이렇게 있을때 하면 처음엔 1을 반환, 두번째엔 2를 반환 이런식임)\n",
    "s2.remove(7)\n",
    "s2\n",
    "s2.add((100,200)) #tuple처럼 불변의 값만 추가할 수 있음, 변할 수 있는 list는 추가 x\n",
    "\n",
    "\n",
    "\n",
    "s2.add(input(\"입력:\"))\n",
    "s2"
   ]
  },
  {
   "cell_type": "markdown",
   "id": "33d115cd",
   "metadata": {
    "slideshow": {
     "slide_type": "subslide"
    }
   },
   "source": [
    "## Set의 집합연산 연산자 및 메소드\n",
    "\n",
    "-   합집합\n",
    "    -   집합A | 집합B\n",
    "    -   집합A.union(집합B)\n",
    "-   교집합\n",
    "    -   집합A & 집합B\n",
    "    -   집합A.intersection(집합B)\n",
    "-   차집합\n",
    "    -   집합A - 집합B\n",
    "    -   집합A.difference(집합B)\n"
   ]
  },
  {
   "cell_type": "code",
   "execution_count": 75,
   "id": "d2a32b55",
   "metadata": {},
   "outputs": [
    {
     "data": {
      "text/plain": [
       "{'e', 'r', 's'}"
      ]
     },
     "execution_count": 75,
     "metadata": {},
     "output_type": "execute_result"
    }
   ],
   "source": [
    "s10 = {1,2,3,4,5}\n",
    "s20 = {4,5,6,7,8}\n",
    "\n",
    "s30=s10|s20 #합집합\n",
    "s30 \n",
    "s10.union(s20)\n",
    "\n",
    "s10&s20 #교집합\n",
    "s10.intersection(s20)\n",
    "\n",
    "s10-s20 #차집합\n",
    "s10.difference(s20)\n",
    "\n",
    "s14={\"r\",\"s\",\"e\"}\n",
    "s14"
   ]
  },
  {
   "cell_type": "markdown",
   "id": "17bf4f71",
   "metadata": {},
   "source": [
    "# 자료구조를 이용한 대입\n",
    "\n",
    "-   리스트, 튜플, 셋의 원소들을 개별 변수에 대입한다. 어느 자료구조에 적용하느냐에 따라 **리스트 대입, 튜플 대입, 셋 대입** 이라고 한다. 이중 리스트대입이나 튜플대입은 많이 사용된다.\n",
    "-   변수의 개수와 리스트 원소의 개수는 동일해야 한다.\n"
   ]
  },
  {
   "cell_type": "code",
   "execution_count": null,
   "id": "73b925bb",
   "metadata": {},
   "outputs": [],
   "source": [
    "a,b,c = 10,20,30 # tuple 대입 () 생략\n",
    "a,b,c = {1,2,3} # set 대입 \n",
    "a,b,c = [\"가\",\"나\",\"다\"] # list 대입 연산의 처리결과가 list나 set으로 나올 때, 그 결과값을 각각의 변수로 입력해놓고싶을때 사용함"
   ]
  },
  {
   "cell_type": "code",
   "execution_count": null,
   "id": "64bf5839",
   "metadata": {
    "slideshow": {
     "slide_type": "fragment"
    }
   },
   "outputs": [
    {
     "data": {
      "text/plain": [
       "('k1', 'k2', 'k3')"
      ]
     },
     "execution_count": 77,
     "metadata": {},
     "output_type": "execute_result"
    }
   ],
   "source": [
    "a,b,c = {\"k1\":\"v1\",\"k2\":\"v2\",\"k3\":\"v3\"} # dic 대입\n",
    "a,b,c"
   ]
  },
  {
   "cell_type": "markdown",
   "id": "a3778f41",
   "metadata": {
    "slideshow": {
     "slide_type": "slide"
    }
   },
   "source": [
    "# 자료구조 변환 함수\n",
    "\n",
    "-   **list(자료구조)**\n",
    "    -   대상 자료구조/Iterable을 List로 변환한다.\n",
    "-   **tuple(자료구조)**\n",
    "    -   대상 자료구조/Iterable을 Tuple로 변환\n",
    "-   **set(자료구조)**\n",
    "    -   대상 자료구조/Iterable을 Set으로 변환\n",
    "    -   다른 자료구조의 원소 중 중복을 빼고 조회할 때 set()를 이용해 Set으로 변환한다.\n",
    "-   Dictionary로 변환하는 함수는 없다.\n",
    "    -   dict(key=value, ..) 는 딕셔너리 생성하는 함수이다.\n",
    "-   변경 대상이 Dictionary 일 경우에는 key값들만 모아서 변환한다.\n",
    "\n",
    "> -   **Iterable**\n",
    ">     -   반복가능한 객체.\n",
    ">     -   여러개의 값을 요청을 받을 때마다 하나씩 제공해주는 타입을 iterable 이라고 함.\n",
    ">         -   Iterable이 제공하는 값을 반복문을 이용해 조회할 경우 **for in문**을 사용한다.\n",
    ">     -   대표적으로 자료구조, 문자열 등이 있다.\n"
   ]
  },
  {
   "cell_type": "code",
   "execution_count": null,
   "id": "07fd6373",
   "metadata": {
    "slideshow": {
     "slide_type": "fragment"
    }
   },
   "outputs": [
    {
     "data": {
      "text/plain": [
       "['월', '화', '수', '목', '금', '토', '일']"
      ]
     },
     "execution_count": 81,
     "metadata": {},
     "output_type": "execute_result"
    }
   ],
   "source": [
    "a=\"월화수목금토일\"\n",
    "\",\".join(a) # 구분자 추가방법\n",
    "tuple(a)\n",
    "set(a)\n",
    "list(a)\n",
    "# dic은 키-값이 쌍이므로 바꿔주는 함수는 없음.\n"
   ]
  },
  {
   "cell_type": "markdown",
   "id": "b4671a5d",
   "metadata": {
    "slideshow": {
     "slide_type": "skip"
    }
   },
   "source": [
    "# TODO\n"
   ]
  },
  {
   "cell_type": "code",
   "execution_count": null,
   "id": "da7f260f",
   "metadata": {},
   "outputs": [
    {
     "name": "stdout",
     "output_type": "stream",
     "text": [
      "80\n",
      "[100, 90, 100, 80, 70]\n",
      "[80, 70, 100, 80]\n",
      "[90, 80, 100, 90, 85]\n",
      "[90, 80, 100, 90, 85]\n",
      "[100, 100, 70, 80, 95]\n",
      "[100, 100, 70, 80, 95]\n",
      "[100, 90, 100, 80, 70, 100, 80, 90, 20, 85]\n",
      "{100, 70, 80, 20, 85, 90}\n"
     ]
    },
    {
     "data": {
      "text/plain": [
       "(100, 100, 90)"
      ]
     },
     "execution_count": 10,
     "metadata": {},
     "output_type": "execute_result"
    }
   ],
   "source": [
    "# 문제 1 ~ 7\n",
    "jumsu = [100, 90, 100, 80, 70, 100, 80, 90, 95, 85]\n",
    "# 위 리스트는 학생번호 1번 ~ 10번까지 10명의 시험 점수이다.\n",
    "\n",
    "# (1)  7번의 점수를 출력하세요\n",
    "print(jumsu[6])\n",
    "\n",
    "# (2)  1번부터 5번까지의 점수를 출력하세요.\n",
    "print(jumsu[0:5])\n",
    "\n",
    "# (3)  4, 5, 6, 7번의 점수를 출력하세요.\n",
    "print(jumsu[3:7])\n",
    "\n",
    "# (4) 짝수번째 점수를 출력하세요.\n",
    "print(jumsu[1:10:2])\n",
    "\n",
    "print(jumsu[1::2])\n",
    "\n",
    "# (5) 홀수번째 점수를 출력하세요.\n",
    "print(jumsu[0:10:2])\n",
    "\n",
    "print(jumsu[::2])\n",
    "\n",
    "# (6) 9번의 점수를 20으로 변경하고 전체 출력하세요.\n",
    "jumsu[8] = 20\n",
    "print(jumsu)\n",
    "\n",
    "# (7) 중복된 점수는 제거하고 하나씩만 나오도록 출력하세요.\n",
    "print(set(jumsu)) # list → set 변환\n",
    "#set은 중복된 값을 가지지 않기때문에 하나만 갖게됨\n",
    "\n",
    "#5, 2, 7번 점수를 출력하는법\n",
    "jumsu[5], jumsu[2], jumsu[7]  # 규칙적이지 않으면 이런식으로밖에 못함.\n",
    "\n"
   ]
  },
  {
   "cell_type": "code",
   "execution_count": 14,
   "id": "925491c4",
   "metadata": {},
   "outputs": [
    {
     "data": {
      "text/plain": [
       "['수박', '딸기', '사과', '귤', '오렌지']"
      ]
     },
     "execution_count": 14,
     "metadata": {},
     "output_type": "execute_result"
    }
   ],
   "source": [
    "# 문제 8 ~ 9\n",
    "fruits = [\"복숭아\", \"수박\", \"딸기\"]\n",
    "\n",
    "# (8) fruits 리스트에 마지막 원소로 \"사과\", \"귤\"을 추가하세요.\n",
    "fruits + [\"사과\", \"귤\"] # 이렇게하면 결과적으로 추가된 것 처럼 보이나 실제로 fruits 리스트에 추가된것은 아님. 새로운 변수를 지정하면 되긴함.\n",
    "fruits.extend([\"사과\", \"귤\"])\n",
    "fruits\n",
    "\n",
    "fruits.append(\"오렌지\") #하나의 값만 추가할 땐 해당 기능을 사용하면 됨. 대신 해당 명령어를 계ㅖㅖㅖㅖㅖㅖㅖ속 실행하면 리스트 안에 계속 생겨날 수 있음(중복으로)\n",
    "fruits\n",
    "# (9) fruits 리스트에서 \"복숭아\"를 제거하세요.\n",
    "fruits.remove(\"복숭아\")\n",
    "fruits\n"
   ]
  },
  {
   "cell_type": "code",
   "execution_count": null,
   "id": "8356a379",
   "metadata": {},
   "outputs": [
    {
     "name": "stdout",
     "output_type": "stream",
     "text": [
      "홍길동 a@com\n",
      "게임\n"
     ]
    },
    {
     "data": {
      "text/plain": [
       "{'이름': '홍길동', '취미': ['독서', '게임'], '결혼여부': False, '몸무게': 72.1, '키': 172}"
      ]
     },
     "execution_count": 34,
     "metadata": {},
     "output_type": "execute_result"
    }
   ],
   "source": [
    "# 문제 10 ~ 15\n",
    "# (10)본인의 이름, 나이, email주소, 취미, 결혼유무를 사전(딕셔너리)으로 생성.\n",
    "# 취미는 2개 이상의 값을 넣는다..\n",
    "info = {\"이름\" : \"홍길동\", \n",
    "        \"나이\" : 20,\n",
    "        \"email 주소\" : \"a@com\",\n",
    "        \"취미\" : [\"독서\", \"게임\"],\n",
    "        \"결혼여부\" : False \n",
    "        }\n",
    "\n",
    "#key 값은 숫자, 문자 다 가능함 그러나 밑에 dict 연산자를 이용하여 딕셔너리를 생성할 때는 불가능함. 위에서는 \"\"를 사용하여 문자로 만들지만 연산자를 사용할 땐 변수=값 형태로 인식되기 때문\n",
    "\n",
    "info2 = dict(이름=\"홍길동\", 나이=\"20\", email주소 = \"a@com\", 취미 = [\"독서\", \"게임\"], 결혼여부 = False)\n",
    "\n",
    "info\n",
    "# (11) 위 딕셔너리에서 이름과 email주소를 조회해서 출력하세요.\n",
    "print(info[\"이름\"], info[\"email 주소\"])\n",
    "\n",
    "# (12) 위 딕셔너리에서 취미중 두번째 취미를 조회해서 출력하세요.\n",
    "print(info[\"취미\"][1])\n",
    "\n",
    "# (13) 위 딕셔너리에 몸무게와 키 항목을 추가하세요.\n",
    "info[\"몸무게\"] = 72.1\n",
    "info[\"키\"] = 172\n",
    "info\n",
    "\n",
    "# (14) 위 딕셔너리에서 email 주소를 다른 값으로 변경하세요.\n",
    "info[\"email 주소\"] = \"b@com\"\n",
    "info\n",
    "\n",
    "# (15) 위 딕셔너리에서 나이를 제거하세요.\n",
    "age = info.pop(\"나이\") # 지우면서 해당 변수와 값을 다른 변수로 지정할 수 있음.(pop) del은 단순히 삭제만 \n",
    "info\n",
    "age\n",
    "del info[\"email 주소\"] #값을 지우기만 함\n",
    "info\n"
   ]
  }
 ],
 "metadata": {
  "kernelspec": {
   "display_name": "Python 3",
   "language": "python",
   "name": "python3"
  },
  "language_info": {
   "codemirror_mode": {
    "name": "ipython",
    "version": 3
   },
   "file_extension": ".py",
   "mimetype": "text/x-python",
   "name": "python",
   "nbconvert_exporter": "python",
   "pygments_lexer": "ipython3",
   "version": "3.13.7"
  },
  "toc": {
   "base_numbering": 1,
   "nav_menu": {},
   "number_sections": true,
   "sideBar": true,
   "skip_h1_title": false,
   "title_cell": "Table of Contents",
   "title_sidebar": "Contents",
   "toc_cell": false,
   "toc_position": {
    "height": "calc(100% - 180px)",
    "left": "10px",
    "top": "150px",
    "width": "512px"
   },
   "toc_section_display": true,
   "toc_window_display": true
  },
  "varInspector": {
   "cols": {
    "lenName": 16,
    "lenType": 16,
    "lenVar": 40
   },
   "kernels_config": {
    "python": {
     "delete_cmd_postfix": "",
     "delete_cmd_prefix": "del ",
     "library": "var_list.py",
     "varRefreshCmd": "print(var_dic_list())"
    },
    "r": {
     "delete_cmd_postfix": ") ",
     "delete_cmd_prefix": "rm(",
     "library": "var_list.r",
     "varRefreshCmd": "cat(var_dic_list()) "
    }
   },
   "types_to_exclude": [
    "module",
    "function",
    "builtin_function_or_method",
    "instance",
    "_Feature"
   ],
   "window_display": false
  }
 },
 "nbformat": 4,
 "nbformat_minor": 5
}
