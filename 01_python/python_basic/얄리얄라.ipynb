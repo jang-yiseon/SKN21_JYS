{
 "cells": [
  {
   "cell_type": "markdown",
   "id": "1a5e9474",
   "metadata": {},
   "source": [
    "파이썬 코드 실행"
   ]
  },
  {
   "cell_type": "code",
   "execution_count": 8,
   "id": "f65f65bf",
   "metadata": {},
   "outputs": [
    {
     "data": {
      "text/plain": [
       "2"
      ]
     },
     "execution_count": 8,
     "metadata": {},
     "output_type": "execute_result"
    }
   ],
   "source": [
    "# 실행 : ctrl+enter / shift+enter\n",
    "## ctrl > 현재 셀에서 이어서 작성 가능함\n",
    "## shift > 다음 셀로 이동됨\n",
    "# 좌측하단에 [N]은 실행 숫자임\n",
    "# Cell 생성 : a(위), b(아래)\n",
    "\n",
    "1+1"
   ]
  }
 ],
 "metadata": {
  "kernelspec": {
   "display_name": "Python 3",
   "language": "python",
   "name": "python3"
  },
  "language_info": {
   "codemirror_mode": {
    "name": "ipython",
    "version": 3
   },
   "file_extension": ".py",
   "mimetype": "text/x-python",
   "name": "python",
   "nbconvert_exporter": "python",
   "pygments_lexer": "ipython3",
   "version": "3.13.7"
  }
 },
 "nbformat": 4,
 "nbformat_minor": 5
}
