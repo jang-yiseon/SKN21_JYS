{
 "cells": [
  {
   "cell_type": "markdown",
   "metadata": {
    "slideshow": {
     "slide_type": "slide"
    }
   },
   "source": [
    "# 함수란\n",
    "\n",
    "-   프로그램에서 함수란 하나의 작업, 기능, 동작을 처리하기 위한 **사용자 정의 연산자**라고 할 수 있다.\n",
    "    -   함수는 하나의 작업을 처리하기 위해서 \n",
    "        -   값을 **입력(Input)을** 받아서 **처리 후** 처리결과를 **출력(Output)하는** 일련의 과정을 정의한 것을 말한다.\n",
    "        -   연산자와 비교하면 **입력값**은 **피연산자**, **출력값**은 **연산결과** 값으로 볼 수있다.\n",
    "    -   함수를 구현해 파이썬 실행환경에 등록하는 것을 **함수를 정의(define)한다** 라고 한다.\n",
    "    -   정의된 함수를 사용하는 것을 **함수를 호출(call)한다** 라고 한다.\n",
    "    -   파이썬에서 함수는 일급 시민 객체(First Class Citizen/First Class Object)이다.\n",
    "        -   의미: 함수도 일반적인 값처럼 변수에 대입해서 사용할 수 있다.\n",
    "\n",
    "> -   **일급 시민 객체 란**  \n",
    ">      – **변수에 할당할 수 있고, 함수의 입력값으로 전달할 수 있고, 함수의 반환 값으로 반환할 수 있는 객체를 말한다.**\n",
    ">\n",
    "> -   일급시민객체는 일급시민 이란 말에서 유래된 용어이다.\n",
    ">          - 일급 시민이란 자유롭게 거주하며 일을 할 수 있고, 출입국의 자유를 가지며 투표의 자유를 가지는 시민을 의미한다.\n",
    ">          - 일급 시민 객체란 적용 가능한 연산을 모두 지원하는 객체를 뜻한다."
   ]
  },
  {
   "cell_type": "markdown",
   "metadata": {
    "slideshow": {
     "slide_type": "slide"
    }
   },
   "source": [
    "## 함수 정의\n",
    "\n",
    "-   함수를 구현하고 그것을 **파이썬 실행환경에** 새로운 기능으로 **등록하는** 과정을 말한다.\n",
    "\n",
    "### 함수 구현\n",
    "\n",
    "-   함수의 선언부와 구현부로 나누어진다\n",
    "    -   함수의 선언부(Header) : 함수의 이름과 입력값을 받을 변수(Parameter, 매개변수)를 지정한다.\n",
    "    -   함수의 구현부(Body) : 함수가 호출 되었을 때 실행할 실행문들을 순서대로 작성한다.\n"
   ]
  },
  {
   "cell_type": "markdown",
   "metadata": {
    "slideshow": {
     "slide_type": "fragment"
    }
   },
   "source": [
    "```python\n",
    "def 함수이름( [변수, 변수, ..]):  # 선언 부(Header)\n",
    "    # 구현 부(body)\n",
    "    실행구문1\n",
    "    실행구문2\n",
    "    실행구문3\n",
    "    …\n",
    "    [return [결과값]]\n",
    "```\n",
    "\n",
    "-   함수 선언 마지막에는 `:` 을 넣어 구현부와 구분한다.\n",
    "-   Parameter(매개변수)는 argument(호출하는 곳에서 전달하는 함수의 입력값)를 받기 위한 변수로 0개 이상 선언할 수 있다.\n",
    "-   함수의 실행구문은 코드블록으로 들여쓰기로 블록을 묶어준다.\n",
    "    -   들여쓰기는 보통 공백 4칸을 사용한다.\n",
    "-   함수의 처리 결과값이 있을 경우 **return 구문**을 넣고 없을 경우 return은 생략할 수 있다.\n",
    "-   **함수이름 관례**\n",
    "    -   함수이름은 보통 동사형으로 만든다.\n",
    "    -   Snake 표기법사용: 모두 소문자로 하고 여러단어로 구성할 경우 각 단어들을 `_`로 연결한다. (변수와 동일)\n"
   ]
  },
  {
   "cell_type": "code",
   "execution_count": null,
   "metadata": {
    "slideshow": {
     "slide_type": "fragment"
    }
   },
   "outputs": [
    {
     "name": "stdout",
     "output_type": "stream",
     "text": [
      "안녕하세요\n",
      "반갑습니다\n"
     ]
    }
   ],
   "source": [
    "# 함수 정의\n",
    "## input(입력)이 없는 함수 = 피연산자가 없는 함수 (변수가 선언되어있지 않음)\n",
    "## ouput(출력)이 없는 함수 = 처리 결과를 호출한 곳으로 반환하지 않는다. (처리 결과를 반환하는 함수가 없기 때문)\n",
    "def greet(): #선언부\n",
    "    print(\"안녕하세요\")\n",
    "    print(\"반갑습니다\")\n",
    "\n",
    "# 함수 호출 \n",
    "## 함수이름(), 피연산자 없이 정의했으므로 x\n",
    "## 함수는 프로그램 종료 후 재실행하면 다시 정의를 실행해줘야 호출이 가능해짐.\n",
    "greet()"
   ]
  },
  {
   "cell_type": "markdown",
   "metadata": {
    "slideshow": {
     "slide_type": "subslide"
    }
   },
   "source": [
    "## 함수 parameter와 return value\n",
    "\n",
    "-   **parameter:** 함수가 호출하는 곳으로 부터 입력받는 값을 저장하는 변수.\n",
    "    -   **arugument:**  호출할 때 파라미터에 전달 하는 값.\n",
    "-   **return value:** 함수의 처리결과로 호출하는 곳에 전달(반환)하는 값.\n",
    "\n",
    "### return value(반환값)\n",
    "\n",
    "-   함수가 호출받아 처리한 결과값으로 호출한 곳으로 반환하는 값이다.\n",
    "-   함수 구현부에 return \\[값\\] 구문을 사용해 반환한다.\n",
    "    -   **return**\n",
    "        -   함수가 정상적으로 끝났고 호출한곳으로 돌아간다.\n",
    "        -   보통은 함수 구현의 마지막에 넣지만 경우에 따라 중간에 올 수 있다.\n",
    "    -   return 반환값\n",
    "        -   호출한 곳으로 값을 가지고 돌아간다. (반환한다)\n",
    "        -   반환값이 없을 경우 None을 반환한다.\n",
    "        -   함수에 return 구문이 없을 경우 마지막에 return None이 실행된다.\n",
    "-   여러개의 값을 return 하는 경우 자료구조로 묶어서 전달해야한다.\n",
    "    -   함수는 한개의 값만 반환할 수 있다.\n"
   ]
  },
  {
   "cell_type": "code",
   "execution_count": 22,
   "metadata": {
    "slideshow": {
     "slide_type": "fragment"
    }
   },
   "outputs": [
    {
     "name": "stdout",
     "output_type": "stream",
     "text": [
      "님 안녕하세요.\n",
      "환영합니다.\n"
     ]
    }
   ],
   "source": [
    "## 입력값을 받는 함수\n",
    "### 변수 선언 → parameter(매개변수) : 0~n개 선언 가능\n",
    "def greet2(name) : # name이 파라미터임 \n",
    "    print(f\"{name}님 안녕하세요.\")\n",
    "    print(\"환영합니다.\")\n",
    "\n",
    "\n",
    "greet2(\"\") #()으로 입력하면 파라미터에 전달할 값(arugument)가 없으므로 오류발생. \n",
    "#paprameter와 arugument의 개수는 같아야 함. "
   ]
  },
  {
   "cell_type": "code",
   "execution_count": 26,
   "metadata": {},
   "outputs": [
    {
     "name": "stdout",
     "output_type": "stream",
     "text": [
      "아산에사는 30세의 이순신님 환영합니다.\n"
     ]
    }
   ],
   "source": [
    "def greet3(name, age, adress) : \n",
    "    print(f\"{adress}에 사는 {age}세의 {name}님 환영합니다.\")\n",
    "\n",
    "greet3(\"이순신\", 30, \"아산\")"
   ]
  },
  {
   "cell_type": "code",
   "execution_count": 28,
   "metadata": {
    "slideshow": {
     "slide_type": "fragment"
    }
   },
   "outputs": [],
   "source": [
    "def greet4(name) :\n",
    "    return f\"{name}님 안녕하세요. 환영합니다.\"\n",
    "    "
   ]
  },
  {
   "cell_type": "code",
   "execution_count": 40,
   "metadata": {
    "slideshow": {
     "slide_type": "fragment"
    }
   },
   "outputs": [
    {
     "name": "stdout",
     "output_type": "stream",
     "text": [
      "종료\n"
     ]
    }
   ],
   "source": [
    "result = greet4(\"이순신\") #return받을 변수 = 함수 호출\n",
    "print(\"종료\")"
   ]
  },
  {
   "cell_type": "code",
   "execution_count": 41,
   "metadata": {},
   "outputs": [
    {
     "name": "stdout",
     "output_type": "stream",
     "text": [
      "안녕\n",
      "종료\n",
      "종료 None\n"
     ]
    }
   ],
   "source": [
    "def greet5() : \n",
    "    print(\"안녕\")\n",
    "\n",
    "v = greet5()\n",
    "print(\"종료\")\n",
    "print(\"종료\", v )"
   ]
  },
  {
   "cell_type": "code",
   "execution_count": 3,
   "metadata": {},
   "outputs": [
    {
     "name": "stdout",
     "output_type": "stream",
     "text": [
      "num2는 0일 수 없습니다.\n",
      "계산 안됨.\n"
     ]
    }
   ],
   "source": [
    "def divide(num1, num2) : \n",
    "    if num2 == 0 :\n",
    "        print(\"num2는 0일 수 없습니다.\")\n",
    "        return\n",
    "    return num1 / num2\n",
    "\n",
    "result = divide(10,0)\n",
    "if result :\n",
    "    print(result)\n",
    "else :\n",
    "    print(\"계산 안됨.\")"
   ]
  },
  {
   "cell_type": "code",
   "execution_count": null,
   "metadata": {},
   "outputs": [
    {
     "name": "stdout",
     "output_type": "stream",
     "text": [
      "(12, 8, 20, 5.0)\n",
      "12 8 20 5.0\n"
     ]
    }
   ],
   "source": [
    "# 리턴값이 여러개인 경우\n",
    "# 이렇게 하나의 함수가 여러개의 연산을 하는건 좋지않음.예시니까 ^^..\n",
    "## 리턴값은 한개만 가능. → 자료구조로 묶어서 반환. \n",
    "\n",
    "def calculate(num1, num2) :\n",
    "    r1 = num1 + num2\n",
    "    r2 = num1 - num2\n",
    "    r3 = num1 * num2\n",
    "    r4 = num1 / num2\n",
    "    return r1, r2, r3, r4 #tuple\n",
    "    # return [r1, r2, r3, r4] 로 하면 list 형식으로 return 됨 → 값을 바꾸고 추가 등의 변경을 할 예정이면 이걸 사용\n",
    "    # set은 중복값이 날라갈 수 있어서 잘 안씀\n",
    "    # dic도 가능함\n",
    "    # return {\"plus\":r1, \"minus\":r2, ...,}\n",
    "\n",
    "result = calculate(10,2)\n",
    "print(result)\n",
    "\n",
    "r1, r2, r3, r4 = calculate(10,2)\n",
    "print(r1, r2, r3, r4)"
   ]
  },
  {
   "cell_type": "markdown",
   "metadata": {
    "slideshow": {
     "slide_type": "slide"
    }
   },
   "source": [
    "## Parameter (매개변수)\n",
    "\n",
    "### 기본값이 있는 Parameter\n",
    "\n",
    "-   매개변수에 값을 대입하는 구문을 작성하면 호출할 때 argument 가 넘어오지 않으면 대입해놓은 기본값을 사용한다.\n",
    "-   함수 정의시 기본값 없는 매개변수, 있는 매개변수를 같이 선언할 수 있다.\n",
    "    -   **이때 기본값 없는 매개변수들을 선언하고 그 다음에 기본값 있는 매개변수들을 선언한다.**\n"
   ]
  },
  {
   "cell_type": "code",
   "execution_count": null,
   "metadata": {
    "slideshow": {
     "slide_type": "fragment"
    }
   },
   "outputs": [
    {
     "name": "stdout",
     "output_type": "stream",
     "text": [
      "이름 : 홍길동\n"
     ]
    },
    {
     "ename": "TypeError",
     "evalue": "print_info() missing 1 required positional argument: 'name'",
     "output_type": "error",
     "traceback": [
      "\u001b[31m---------------------------------------------------------------------------\u001b[39m",
      "\u001b[31mTypeError\u001b[39m                                 Traceback (most recent call last)",
      "\u001b[36mCell\u001b[39m\u001b[36m \u001b[39m\u001b[32mIn[5]\u001b[39m\u001b[32m, line 5\u001b[39m\n\u001b[32m      2\u001b[39m     \u001b[38;5;28mprint\u001b[39m(\u001b[33mf\u001b[39m\u001b[33m\"\u001b[39m\u001b[33m이름 : \u001b[39m\u001b[38;5;132;01m{\u001b[39;00mname\u001b[38;5;132;01m}\u001b[39;00m\u001b[33m\"\u001b[39m)\n\u001b[32m      4\u001b[39m print_info(\u001b[33m\"\u001b[39m\u001b[33m홍길동\u001b[39m\u001b[33m\"\u001b[39m) \u001b[38;5;66;03m#기본값이 있는 parameter\u001b[39;00m\n\u001b[32m----> \u001b[39m\u001b[32m5\u001b[39m \u001b[43mprint_info\u001b[49m\u001b[43m(\u001b[49m\u001b[43m)\u001b[49m\n\u001b[32m      7\u001b[39m \u001b[38;5;28;01mdef\u001b[39;00m\u001b[38;5;250m \u001b[39m\u001b[34mprint_info2\u001b[39m(name=\u001b[38;5;28;01mNone\u001b[39;00m) :\n\u001b[32m      8\u001b[39m     \u001b[38;5;28mprint\u001b[39m(\u001b[33mf\u001b[39m\u001b[33m\"\u001b[39m\u001b[33m이름 : \u001b[39m\u001b[38;5;132;01m{\u001b[39;00mname\u001b[38;5;132;01m}\u001b[39;00m\u001b[33m\"\u001b[39m)\n",
      "\u001b[31mTypeError\u001b[39m: print_info() missing 1 required positional argument: 'name'"
     ]
    }
   ],
   "source": [
    "def print_info(name) :\n",
    "    print(f\"이름 : {name}\")\n",
    "\n",
    "print_info(\"홍길동\") \n",
    "print_info()"
   ]
  },
  {
   "cell_type": "code",
   "execution_count": null,
   "metadata": {},
   "outputs": [
    {
     "name": "stdout",
     "output_type": "stream",
     "text": [
      "이름 : 이순신\n",
      "이름 : None\n"
     ]
    }
   ],
   "source": [
    "#기본값이 있는 parameter\n",
    "\n",
    "def print_info2(name=None) :\n",
    "    print(f\"이름 : {name}\")\n",
    "\n",
    "print_info2(\"이순신\")\n",
    "print_info2()"
   ]
  },
  {
   "cell_type": "code",
   "execution_count": 8,
   "metadata": {},
   "outputs": [
    {
     "name": "stdout",
     "output_type": "stream",
     "text": [
      "id-1 1111 홍길동 없음 없음\n",
      "id-1 1111 홍길동 30 없음\n",
      "id-1 1111 홍길동 30 170\n"
     ]
    }
   ],
   "source": [
    "# id, pwd, name은 caller(호출하는 곳)에서 반드시 넘겨받아야 한다. age, tall은 안받을 수도 있다\n",
    "def print_info3(id, pwd, name, age=\"없음\", tall=\"없음\") :\n",
    "    print(id, pwd, name, age, tall)\n",
    "\n",
    "print_info3(\"id-1\",\"1111\",\"홍길동\")\n",
    "print_info3(\"id-1\",\"1111\",\"홍길동\",30)\n",
    "print_info3(\"id-1\",\"1111\",\"홍길동\",30,170)"
   ]
  },
  {
   "cell_type": "markdown",
   "metadata": {
    "slideshow": {
     "slide_type": "subslide"
    }
   },
   "source": [
    "### Positional argument와 Keyword argument\n",
    "\n",
    "-   Argument는 함수/메소드를 호출할 때 전달하는 입력값을 말한다.\n",
    "    -   Argument는 전달하는 값이고 Parameter는 그 값을 저장하는 변수\n",
    "-   Positional argument\n",
    "    -   함수 호출 할때 argument(전달인자)를 Parameter 순서에 맞춰 값을 넣어서 호출.\n",
    "-   keyword argument\n",
    "    -   함수 호출할 때 argument를 `Parameter변수명 = 전달할값` 형식으로 선언해서 어떤 parameter에 어떤 값을 전달할 것인지 지정해서 호출.\n",
    "    -   순서와 상관없이 호출하는 것이 가능.\n",
    "    -   parameter가 많고 대부분 기본값이 있는 함수 호출 할 때 뒤 쪽에 선언된 parameter에만 값을 전달하고 싶을 경우 유용하다.\n"
   ]
  },
  {
   "cell_type": "code",
   "execution_count": 24,
   "metadata": {},
   "outputs": [
    {
     "name": "stdout",
     "output_type": "stream",
     "text": [
      "None None None 없음 없음\n",
      "id-1 1111 홍길동 20 182\n",
      "id-1 dede 1111 50 없음\n",
      "None None None 없음 180\n",
      "dddd didid0 None 없음 없음\n"
     ]
    }
   ],
   "source": [
    "# 기본값이 없는 애들을 먼저 선언하고, 기본값이 있는 애들은 뒤에 선언해야함\n",
    "def print_info5(id=None, pwd=None, name=None, age=\"없음\", tall=\"없음\") :\n",
    "    print(id, pwd, name, age, tall)\n",
    "\n",
    "print_info5()\n",
    "print_info5(\"id-1\",\"1111\",\"홍길동\",20,182) #positinal argument\n",
    "print_info5(id=\"id-1\",name=\"1111\",age=50, pwd=\"dede\") #Keyword argument\n",
    "print_info5(tall=180)\n",
    "print_info5(\"dddd\", pwd=\"didid0\") # position 다음에 keyword를 넣어야 함"
   ]
  },
  {
   "cell_type": "markdown",
   "metadata": {
    "slideshow": {
     "slide_type": "subslide"
    }
   },
   "source": [
    "### 가변인자(Variable Length Argument)\n",
    "- 가변인자(Variable Length Argument)는 함수 정의 시 argument의 개수를 미리 지정하지 않고, 호출할 때 그 개수를 정해서 인자를 전달할 수 있도록 하는 방법이다.\n",
    "#### 가변인자의 종류\n",
    "##### 위치 가변 인자 (`*args`)\n",
    "- 여러 개의 **위치 기반 인자(Positional argument)**를 하나의 튜플로 받아 처리한다.  \n",
    "- 함수 정의 시 `*args` 형태로 사용하며, 호출 할 때 전달할 값들을 위치 기반 인자(Positional argument)로 전달한다.\n",
    "- `*` 뒤의 변수명은 아무거나 사용 가능하지만 관례적으로 `args`를 사용한다.\n",
    "##### 키워드 가변 인자 (`**kwargs`)\n",
    "- 여러 개의 **키워드 인자**를 하나의 딕셔너리로 받아 처리한다.  \n",
    "- 함수 정의 시 `**kwargs` 형태로 사용하며, 호출 시 `key=value` 형태로 전달한다.  \n",
    "- `**` 뒤의 변수명은 아무거나 사용 가능하지만 관례적으로 `kwargs`를 사용한다.  \n",
    "##### 위치\n",
    "- 하나의 함수에 위치 가변 인자와 키워드 가변 인자를 하나씩만 선언 할 수있다.\n",
    "  - 위치 가변 인자와 키워드 가변 인자를 동시에 사용할 수 있으며, 각각 하나씩만 선언할 수 있다.\n",
    "  - 같이 선언할 경우 위치 인자 `*args`를 먼저 선언하고, 키워드 인자 `**kwargs`를 나중에 선언해야 한다.  \n",
    "- 가변인자와 일반 파라미터들을 같이 선언할 수있다.\n",
    "  - 기본값이 없는 파라미터의 경우 위치 가변 인자 앞 또는 뒤에 모두 선언할 수 있다. 단 뒤에 선언할 경우 호출할 때 keyword argument 형식으로 호출해야 한다. \n",
    "  - 키워드 가변인자 뒤에는 어떤 파라미터들도 선언할 수 없다. (일반 파라미터, 가변인자 모두 포함해서)"
   ]
  },
  {
   "cell_type": "code",
   "execution_count": null,
   "metadata": {
    "slideshow": {
     "slide_type": "fragment"
    }
   },
   "outputs": [
    {
     "name": "stdout",
     "output_type": "stream",
     "text": [
      "<class 'tuple'>\n",
      "()\n",
      "<class 'tuple'>\n",
      "(20, 30, 40, 50, 60)\n",
      "<class 'tuple'>\n",
      "([20, 30, 40, 50],)\n"
     ]
    }
   ],
   "source": [
    "def test(*args) : # *value, *ages를 쓰든 다 상관없음, * ← 이 뒤의 변수명은 아무거나 상관없음\n",
    "    print(type(args))\n",
    "    print(args)\n",
    "# positional argument로 전달된 n개 이상의 값을 튜플로 묶어서 반환함\n",
    "test()\n",
    "test(20,30,40,50,60)\n",
    "test([20,30,40,50])\n",
    "\n",
    "# position 가변인자는 하나만 쓸 수 있음\n",
    "def test2(*args,):\n",
    "    pass"
   ]
  },
  {
   "cell_type": "code",
   "execution_count": null,
   "metadata": {},
   "outputs": [
    {
     "name": "stdout",
     "output_type": "stream",
     "text": [
      "<class 'dict'>\n",
      "{}\n",
      "<class 'dict'>\n",
      "{'id': 'my-id', 'name': '홍길동'}\n",
      "<class 'dict'>\n",
      "{'id': 'dwdw', 'name': '이순신', 'age': 40, 'address': '서울'}\n"
     ]
    }
   ],
   "source": [
    "def test3(**kwargs):\n",
    "    print(type(kwargs))\n",
    "    print(kwargs)\n",
    "\n",
    "test3()\n",
    "test3(id=\"my-id\", name=\"홍길동\")\n",
    "test3(id=\"dwdw\", name=\"이순신\", age=40, address = \"서울\")\n"
   ]
  },
  {
   "cell_type": "code",
   "execution_count": 40,
   "metadata": {},
   "outputs": [
    {
     "name": "stdout",
     "output_type": "stream",
     "text": [
      "(1, 2, 3, 4)\n",
      "{'a': 10, 'b': 20, 'c': 30}\n"
     ]
    }
   ],
   "source": [
    "def test4(*args, **kwargs) :\n",
    "    print(args)\n",
    "    print(kwargs)\n",
    "\n",
    "test4(1,2,3,4, a=10, b=20, c=30)"
   ]
  },
  {
   "cell_type": "markdown",
   "metadata": {
    "slideshow": {
     "slide_type": "slide"
    }
   },
   "source": [
    "# 변수의 유효범위\n",
    "\n",
    "-   **지역변수 (local variable)**\n",
    "    -   함수안에 선언된 변수\n",
    "    -   선언된 그 함수 안에서만 사용할 수 있다.\n",
    "-   **전역변수 (global variable)**\n",
    "    -   함수 밖에 선언 된 변수\n",
    "    -   모든 함수들이 공통적으로 사용할 수 있다.\n",
    "    -   하나의 함수에서 값을 변경하면 그 변한 값이 모든 함수에 영향을 주기 때문에 **함부로 변경하지 않는다.**\n",
    "    -   함수내에서 전역변수에 값을 대입하기 위해서는 global 키워드를 이용해 사용할 것을 미리 선언해야 한다.\n",
    "        -   global로 선언하지 않고 함수안에서 전역변수와 이름이 같은 변수에 값을 대입하면 그 변수와 동일한 지역변수을 생성한다.\n",
    "        -   조회할 경우에는 상관없다.\n",
    "            -   함수에서 변수를 조회할 경우 **먼저 지역변수를 찾고 없으면 전역변수를 찾는다.**\n"
   ]
  },
  {
   "cell_type": "code",
   "execution_count": 51,
   "metadata": {
    "slideshow": {
     "slide_type": "fragment"
    }
   },
   "outputs": [
    {
     "name": "stdout",
     "output_type": "stream",
     "text": [
      "유관순\n"
     ]
    }
   ],
   "source": [
    "name = \"이순신\"  #global 변수, 여러 함수에서 공통적으로 사용 가능하다. (선언된 블럭 안에선 다 가능)\n",
    "def fun(loc=\"서울\") : #loc는 local(지역) 변수로 fun2에선 적용 안됨\n",
    "    age_local = 30\n",
    "    print(\"fun()\", name)\n",
    "    print(\"fun()의 지역변수 : \", loc, age_local) \n",
    "# 지역변수는 전역변수와 달리 메모리에 있을 필요가 없으므로 실행될 때만 메모리를 사용하고 그 후엔 존재하지 않음\n",
    "\n",
    "def fun2() :\n",
    "    print(\"fun2()\", name) #loc는 local(지역) 변수로 fun2에선 적용 안됨\n",
    "\n",
    "\n",
    "#fun()\n",
    "#fun2()\n",
    "\n",
    "def fun3() : \n",
    "    name = \"유관순\" #local변수 name임, global 변수에는 영향  없음.\n",
    "    print(\"fun3()\",name)\n",
    "\n",
    "#fun3()\n",
    "#print(name)\n",
    "\n",
    "def fun4() :\n",
    "    # global 변수 name의 값을 변경 \n",
    "    # 변수 name은 global 변수임을 선언\n",
    "    global name\n",
    "    name = \"유관순\"\n",
    "\n",
    "fun4()\n",
    "print(name)"
   ]
  },
  {
   "cell_type": "markdown",
   "metadata": {
    "slideshow": {
     "slide_type": "slide"
    }
   },
   "source": [
    "# 함수는 일급시민(First class citizen) 이다.\n",
    "\n",
    "-   일급 시민\n",
    "    1. 변수에 대입 할 수 있다.\n",
    "    1. **Argument로 사용**할 수 있다.\n",
    "    1. 함수나 메소드의 반환값으로 사용 할 수 있다.\n",
    "-   즉 파이썬에서 함수는 일반 값(객체)으로 취급된다.\n"
   ]
  },
  {
   "cell_type": "code",
   "execution_count": null,
   "metadata": {},
   "outputs": [
    {
     "data": {
      "text/plain": [
       "10"
      ]
     },
     "execution_count": 54,
     "metadata": {},
     "output_type": "execute_result"
    }
   ],
   "source": [
    "a = 10 # 정수, \n",
    "def f(x) : \n",
    "    return 10\n",
    "\n",
    "f(1)"
   ]
  },
  {
   "cell_type": "code",
   "execution_count": null,
   "metadata": {},
   "outputs": [
    {
     "name": "stdout",
     "output_type": "stream",
     "text": [
      "안녕하세요\n"
     ]
    },
    {
     "data": {
      "text/plain": [
       "<function __main__.greet(x)>"
      ]
     },
     "execution_count": 83,
     "metadata": {},
     "output_type": "execute_result"
    }
   ],
   "source": [
    "def greet(x) : \n",
    "    print(\"안녕하세요\")\n",
    "\n",
    "greet(1) #함수 호출\n",
    "# ()까지 써주는게 함수를 호출하는 것.\n",
    "\n",
    "greet # 함수 자체를 말함 \n",
    "# 메모리에 저장된 함수 코드 자체를 호출하겠다 라는 뜻\n"
   ]
  },
  {
   "cell_type": "code",
   "execution_count": 82,
   "metadata": {},
   "outputs": [
    {
     "name": "stdout",
     "output_type": "stream",
     "text": [
      "안녕하세요\n"
     ]
    }
   ],
   "source": [
    "hello = greet(2)\n",
    "\n",
    "hello\n",
    "\n",
    "# hello 이름의 변수도 greet의 함수를 갖게 됨"
   ]
  },
  {
   "cell_type": "code",
   "execution_count": 94,
   "metadata": {
    "slideshow": {
     "slide_type": "fragment"
    }
   },
   "outputs": [],
   "source": [
    "def calc(num1, num2, func) : \n",
    "    print(\"받은 값:\", num1, num2)\n",
    "    result = func(num1, num2)\n",
    "    print(\"계산결과 : \", result)\n",
    "# 3단계의 작업 중에서 1번과 3번은 고정적인 작업.\n",
    "# 2번째 작업 → +, * , - , % 등을 호출하는 쪽(caller)이 원하는 연산을 처리하는 작업.\n",
    "# 처리할 함수(연산) : func\n"
   ]
  },
  {
   "cell_type": "code",
   "execution_count": 108,
   "metadata": {},
   "outputs": [
    {
     "name": "stdout",
     "output_type": "stream",
     "text": [
      "받은 값: 100 200\n",
      "계산결과 :  -100\n",
      "받은 값: 100 200\n",
      "계산결과 :  300\n"
     ]
    }
   ],
   "source": [
    "def minus(n1,n2) : \n",
    "     return n1 - n2\n",
    "\n",
    "calc(100,200, minus)\n",
    "\n",
    "def plus(n1, n2) : \n",
    "    return n1 + n2\n",
    "\n",
    "calc(100,200, plus)"
   ]
  },
  {
   "cell_type": "code",
   "execution_count": null,
   "metadata": {},
   "outputs": [
    {
     "name": "stdout",
     "output_type": "stream",
     "text": [
      "['가', '나', '내가', '반가워', '배고파', '안녕']\n"
     ]
    },
    {
     "data": {
      "text/plain": [
       "6"
      ]
     },
     "execution_count": 117,
     "metadata": {},
     "output_type": "execute_result"
    }
   ],
   "source": [
    "l = [\"가\", \"안녕\", \"배고파\", \"반가워\", \"나\", \"내가\"]\n",
    "l.sort(reverse=False) # 오름차순(생략 가능), Ture가 내림차순\n",
    "print(l)\n",
    "\n",
    "l.sort(key=len) #key=len으로 해야 각각의 글자수를 반환하여 정렬해줌.\n",
    "len(l)\n"
   ]
  },
  {
   "cell_type": "code",
   "execution_count": 122,
   "metadata": {},
   "outputs": [],
   "source": [
    "def outer() : \n",
    "    a=10\n",
    "    def inner() : \n",
    "        print(\"outer() 안에 정의된 inner() 함수\")\n",
    "\n",
    "    inner()\n",
    "    inner()\n",
    "    inner()\n",
    "    return inner\n"
   ]
  },
  {
   "cell_type": "code",
   "execution_count": 127,
   "metadata": {},
   "outputs": [
    {
     "name": "stdout",
     "output_type": "stream",
     "text": [
      "outer() 안에 정의된 inner() 함수\n",
      "outer() 안에 정의된 inner() 함수\n",
      "outer() 안에 정의된 inner() 함수\n",
      "------------\n",
      "<function outer.<locals>.inner at 0x000001B2B7F53A60>\n",
      "outer() 안에 정의된 inner() 함수\n"
     ]
    }
   ],
   "source": [
    "b = outer() #함수가 b로 반환됨\n",
    "print(\"------------\")\n",
    "print(b)\n",
    "b()"
   ]
  },
  {
   "cell_type": "markdown",
   "metadata": {
    "slideshow": {
     "slide_type": "slide"
    }
   },
   "source": [
    "## 람다식/람다표현식 (Lambda Expression)\n",
    "\n",
    "-   함수를 표현식(expression)으로 정의한다.\n",
    "-   함수를 하나의 식을 이용해서 정의할때 사용하는 표현식(구문).\n",
    "-   값을 입력받아서 **간단한 처리한 결과**를 반환하는 간단한 함수를 표현식으로 정의할 수 있다.\n",
    "    -   처리결과를 return 하는 구문을 하나의 명령문으로 처리할 수 있을때 람다식을 사용할 수 있다.\n",
    "-   구문\n",
    "\n",
    "```python\n",
    "lambda 매개변수[, 매개변수, ...] : 명령문(구문)\n",
    "```\n",
    "\n",
    "-   명령문(구문)은 하나의 실행문만 가능하다.\n",
    "-   명령문(구문)이 처리한 결과를 리턴해준다.\n",
    "-   **람다식은 함수의 매개변수로 함수를 전달하는 일회성 함수를 만들때 주로 사용한다.**\n"
   ]
  },
  {
   "cell_type": "code",
   "execution_count": null,
   "metadata": {},
   "outputs": [
    {
     "data": {
      "text/plain": [
       "3"
      ]
     },
     "execution_count": 128,
     "metadata": {},
     "output_type": "execute_result"
    }
   ],
   "source": [
    "def plus(num1, num2) :\n",
    "    # num1 = num1 * 100\n",
    "    # num2 = num2 + 1000 \n",
    "    return num1+ num2\n",
    "\n",
    "## 람다는 간단한 구현만 가능한데, 위처럼 num1과 num2에 대한 추가적인 계산식을 넣는 경우는 람다식에서 불가능.\n",
    "# 람다 표현식으로 정의\n",
    "f = lambda num1, num2 : num1 + num2\n",
    "# 이게 선언부 /  블럭을 넣지않고 한줄에 이어서 구현부를 넣음\n",
    "# return을 넣지 않고 식을 완성함.\n",
    "f(1,2)"
   ]
  },
  {
   "cell_type": "code",
   "execution_count": 129,
   "metadata": {},
   "outputs": [
    {
     "data": {
      "text/plain": [
       "400"
      ]
     },
     "execution_count": 129,
     "metadata": {},
     "output_type": "execute_result"
    }
   ],
   "source": [
    "f2 = lambda x : len(x) * 100\n",
    "f2(\"aaaa\")"
   ]
  },
  {
   "cell_type": "code",
   "execution_count": null,
   "metadata": {},
   "outputs": [
    {
     "name": "stdout",
     "output_type": "stream",
     "text": [
      "받은 값: 10 20\n",
      "계산결과 :  30\n",
      "받은 값: 100 200\n",
      "계산결과 :  20000\n"
     ]
    }
   ],
   "source": [
    "def calc(num1, num2, func) : \n",
    "    print(\"받은 값:\", num1, num2)\n",
    "    result = func(num1, num2)#여기서 값이될건 2개지정했으면 밑에서도 2개만 써야함\n",
    "    print(\"계산결과 : \", result)\n",
    "#고차함수\n",
    "\n",
    "#  해당 식을 람다식으로는\n",
    "calc(10,20, lambda num1, num2 : num1 + num2)\n",
    "#이렇게 표현 가능\n",
    "\n",
    "calc(100, 200, lambda x, y : x * y)"
   ]
  },
  {
   "cell_type": "code",
   "execution_count": 138,
   "metadata": {},
   "outputs": [
    {
     "data": {
      "text/plain": [
       "True"
      ]
     },
     "execution_count": 138,
     "metadata": {},
     "output_type": "execute_result"
    }
   ],
   "source": [
    "f = lambda x,y : len(x) > len(y)\n",
    "f(\"안녕하세요\", \"잘가\")"
   ]
  },
  {
   "cell_type": "markdown",
   "metadata": {},
   "source": [
    "# docstring\n",
    "\n",
    "-   함수에 대한 설명\n",
    "-   함수의 구현부의 첫번째에 여러줄 문자열(\"\"\" ~ \"\"\")로 작성한다."
   ]
  },
  {
   "cell_type": "code",
   "execution_count": null,
   "metadata": {},
   "outputs": [
    {
     "name": "stdout",
     "output_type": "stream",
     "text": [
      "Help on built-in function print in module builtins:\n",
      "\n",
      "print(*args, sep=' ', end='\\n', file=None, flush=False)\n",
      "    Prints the values to a stream, or to sys.stdout by default.\n",
      "\n",
      "    sep\n",
      "      string inserted between values, default a space.\n",
      "    end\n",
      "      string appended after the last value, default a newline.\n",
      "    file\n",
      "      a file-like object (stream); defaults to the current sys.stdout.\n",
      "    flush\n",
      "      whether to forcibly flush the stream.\n",
      "\n"
     ]
    }
   ],
   "source": [
    "# help(함수) → 함수 설명\n",
    "help(print)"
   ]
  },
  {
   "cell_type": "code",
   "execution_count": null,
   "metadata": {},
   "outputs": [
    {
     "name": "stdout",
     "output_type": "stream",
     "text": [
      "Help on function calc in module __main__:\n",
      "\n",
      "calc(num1: int | float, num2: int | float, func)\n",
      "    다양한 계산을 하는 함수\n",
      "    Args : #파라미터들 설명\n",
      "        num1 (int | float) : 피연산자 1 # 변수명(타입) : 파라미터 설명\n",
      "        num2 (int | float) : 피연산자 2 ## | →  or이라는 뜻\n",
      "        func (callable) : 두 피연산자를 처리할 함수\n",
      "\n",
      "    Returns : # 리턴값\n",
      "        int | float : 계산 결과  # return 값의 타입과 설명\n",
      "\n"
     ]
    }
   ],
   "source": [
    "from typing import Callable\n",
    "def calc(num1 : int|float, num2:int|float, func) -> int | float: #선언\n",
    "    \"\"\"다양한 계산을 하는 함수\n",
    "    Args : #파라미터들 설명\n",
    "        num1 (int | float) : 피연산자 1 # 변수명(타입) : 파라미터 설명 \n",
    "        num2 (int | float) : 피연산자 2 ## | →  or이라는 뜻\n",
    "        func (callable) : 두 피연산자를 처리할 함수\n",
    "\n",
    "    Returns : # 리턴값\n",
    "        int | float : 계산 결과  # return 값의 타입과 설명\n",
    "        \n",
    "        \n",
    "        \"\"\"          # docstring\n",
    "    ## 함수에 대한 설명\n",
    "    ## 파라미터(num1,num2)에 대한 설명\n",
    "    ## 반환값에 대한 설명\n",
    "    ## 발생 가능성 있는 예외(에러)에 대한 설명\n",
    "    ## 사용자에 따라 예제를 넣기도 함\n",
    "\n",
    "    print(\"받은 값:\", num1, num2) #여기서부터 구현\n",
    "    result = func(num1, num2) #함수 호출을 2개로 작성했기 때문에, 사용시 2개의 값만 작성할 수 있음 \n",
    "    print(\"계산결과 : \", result)\n",
    "\n",
    "help(calc)\n",
    "\n",
    "# 위에 '→' 이렇게 쓴건 타입힌트임.\n",
    "# 변수명 : 타입 = 값\n",
    "# name : str = \"\"\n",
    "# name : str | None = None\n"
   ]
  },
  {
   "cell_type": "markdown",
   "metadata": {
    "slideshow": {
     "slide_type": "skip"
    }
   },
   "source": [
    "# TODO\n"
   ]
  },
  {
   "cell_type": "code",
   "execution_count": null,
   "metadata": {
    "slideshow": {
     "slide_type": "skip"
    }
   },
   "outputs": [
    {
     "name": "stdout",
     "output_type": "stream",
     "text": [
      "210\n"
     ]
    }
   ],
   "source": [
    "# 1. 시작 정수, 끝 정수를 받아 그 사이의 모든 정수의 합을 구해서 반환하는 함수를 구현(ex: 1, 20 => 1에서 20 사이의 모든 정수의 합계)\n",
    "def iss(a,b) :\n",
    "    s = 0\n",
    "    for i in range(a,b) : \n",
    "        s += i\n",
    "    print(s)\n",
    "\n",
    "iss(1,21)"
   ]
  },
  {
   "cell_type": "code",
   "execution_count": 46,
   "metadata": {},
   "outputs": [
    {
     "name": "stdout",
     "output_type": "stream",
     "text": [
      "45\n"
     ]
    }
   ],
   "source": [
    "# 2. 1번 문제에서 시작을 받지 않은 경우 0을, 끝 정수를 받지 않으면 10이 들어가도록 구현을 변경\n",
    "def iss(a=0,b=10): \n",
    "    s = 0\n",
    "    for i in range(a,b):\n",
    "        s += i\n",
    "    print(s)\n",
    "\n",
    "\n",
    "iss()\n"
   ]
  },
  {
   "cell_type": "code",
   "execution_count": 104,
   "metadata": {},
   "outputs": [
    {
     "name": "stdout",
     "output_type": "stream",
     "text": [
      "2 * 1 = 2\n",
      "2 * 2 = 4\n",
      "2 * 3 = 6\n",
      "2 * 4 = 8\n",
      "2 * 5 = 10\n",
      "2 * 6 = 12\n",
      "2 * 7 = 14\n",
      "2 * 8 = 16\n",
      "2 * 9 = 18\n"
     ]
    }
   ],
   "source": [
    "# 3. 구구단을 출력하는 함수를 구현한다. 입력으로 출력하고 싶은 단을 parameter로 입력받아서 `N * 1` ~ `N * 9` 를 출력한다. (N: 입력받은 단)\n",
    "def gugu(a) :\n",
    "    # a = int(input(\"정수:\"))\n",
    "    for b in range(1,10) :\n",
    "        print(f\"{a} * {b} = {a*b}\")\n",
    "\n",
    "gugu(2)"
   ]
  },
  {
   "cell_type": "code",
   "execution_count": 99,
   "metadata": {},
   "outputs": [
    {
     "name": "stdout",
     "output_type": "stream",
     "text": [
      "저체중\n"
     ]
    }
   ],
   "source": [
    "# 4. 체질량 지수는 비만도를 나타내는 지수로 키가 a미터 이고 몸무게가 b kg일때 b/(a**2) 로 구한다.\n",
    "# 체질량 지수가\n",
    "# - 18.5 미만이면 저체중\n",
    "# - 18.5이상 25미만이면 정상\n",
    "# - 25이상이면 과체중\n",
    "# - 30이상이면 비만으로 하는데\n",
    "# 몸무게와 키를 매개변수로 받아 비만인지 과체중인지 반환하는 함수를 구현하시오.\n",
    "def bmi(a,b):\n",
    "    # a = int(input(\"키 : \"))\n",
    "    # b = int(input(\"무게 : \"))\n",
    "    c = b/((a/100)**2)\n",
    "    if c < 18.5 :\n",
    "        print(\"저체중\")\n",
    "    elif c >= 18.5 and c < 25 :\n",
    "        print(\"정상\")\n",
    "    elif c > 25 :\n",
    "        print(\"과체중\")\n",
    "    else :\n",
    "        print(\"비만\")\n",
    "\n",
    "bmi(175,50)\n"
   ]
  }
 ],
 "metadata": {
  "kernelspec": {
   "display_name": "Python 3",
   "language": "python",
   "name": "python3"
  },
  "language_info": {
   "codemirror_mode": {
    "name": "ipython",
    "version": 3
   },
   "file_extension": ".py",
   "mimetype": "text/x-python",
   "name": "python",
   "nbconvert_exporter": "python",
   "pygments_lexer": "ipython3",
   "version": "3.13.7"
  },
  "toc": {
   "base_numbering": 1,
   "nav_menu": {},
   "number_sections": true,
   "sideBar": true,
   "skip_h1_title": false,
   "title_cell": "Table of Contents",
   "title_sidebar": "Contents",
   "toc_cell": false,
   "toc_position": {},
   "toc_section_display": true,
   "toc_window_display": false
  },
  "varInspector": {
   "cols": {
    "lenName": 16,
    "lenType": 16,
    "lenVar": 40
   },
   "kernels_config": {
    "python": {
     "delete_cmd_postfix": "",
     "delete_cmd_prefix": "del ",
     "library": "var_list.py",
     "varRefreshCmd": "print(var_dic_list())"
    },
    "r": {
     "delete_cmd_postfix": ") ",
     "delete_cmd_prefix": "rm(",
     "library": "var_list.r",
     "varRefreshCmd": "cat(var_dic_list()) "
    }
   },
   "types_to_exclude": [
    "module",
    "function",
    "builtin_function_or_method",
    "instance",
    "_Feature"
   ],
   "window_display": false
  }
 },
 "nbformat": 4,
 "nbformat_minor": 4
}
